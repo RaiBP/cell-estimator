{
 "cells": [
  {
   "cell_type": "code",
   "execution_count": 1,
   "metadata": {},
   "outputs": [],
   "source": [
    "from pipeline import Pipeline"
   ]
  },
  {
   "cell_type": "code",
   "execution_count": 2,
   "metadata": {},
   "outputs": [],
   "source": [
    "import numpy as np\n",
    "import h5py\n",
    "from matplotlib import pyplot as plt\n",
    "from pathlib import Path\n",
    "from cellpose import models, utils, plot"
   ]
  },
  {
   "cell_type": "code",
   "execution_count": 3,
   "metadata": {},
   "outputs": [],
   "source": [
    "import IPython\n",
    "\n",
    "%load_ext autoreload\n",
    "%autoreload 2"
   ]
  },
  {
   "cell_type": "code",
   "execution_count": 4,
   "metadata": {},
   "outputs": [],
   "source": [
    "# Open the HDF5 file\n",
    "DATA_FOLDER = Path(\"w:/\")\n",
    "filepath = DATA_FOLDER / \"sample01.pre\"\n",
    "file = h5py.File(filepath, 'r')\n",
    "\n",
    "# Access the dataset\n",
    "amplitude = file['amplitude/images']\n",
    "phase = file['phase/images']\n",
    "\n",
    "img_idx = range(2,3)"
   ]
  },
  {
   "cell_type": "code",
   "execution_count": 5,
   "metadata": {},
   "outputs": [],
   "source": [
    "phase_img = []\n",
    "amplitude_img = []\n",
    "for i in img_idx:\n",
    "    phase_img.append(phase[i])\n",
    "    amplitude_img.append(amplitude[i])\n",
    "\n",
    "segmentation_algorithm = 'cellpose'\n",
    "classification_model = 'KNN'\n",
    "\n",
    "pipe = Pipeline(phase_img, amplitude_img, segmentation_algorithm, classification_model)"
   ]
  },
  {
   "cell_type": "code",
   "execution_count": 6,
   "metadata": {},
   "outputs": [
    {
     "name": "stderr",
     "output_type": "stream",
     "text": [
      "Extracting features: 100%|██████████| 1/1 [00:00<00:00,  9.03image/s]\n"
     ]
    }
   ],
   "source": [
    "y_pred, prob = pipe.process_data()"
   ]
  },
  {
   "cell_type": "code",
   "execution_count": 7,
   "metadata": {},
   "outputs": [
    {
     "name": "stdout",
     "output_type": "stream",
     "text": [
      "Predicted label: ['wbc', 'wbc', 'wbc', 'wbc']\n",
      "[[1.86076490e-14 2.49209584e-14 4.85301504e-14 1.31054398e-14\n",
      "  1.00000000e+00]\n",
      " [1.86076490e-14 2.49209584e-14 4.85301504e-14 1.31054398e-14\n",
      "  1.00000000e+00]\n",
      " [1.86076490e-14 2.49209584e-14 4.85301504e-14 1.31054398e-14\n",
      "  1.00000000e+00]\n",
      " [1.86076490e-14 2.49209584e-14 4.85301504e-14 1.31054398e-14\n",
      "  1.00000000e+00]]\n"
     ]
    }
   ],
   "source": [
    "print(f'Predicted label: {y_pred}')\n",
    "print(prob)"
   ]
  },
  {
   "cell_type": "code",
   "execution_count": null,
   "metadata": {},
   "outputs": [],
   "source": []
  }
 ],
 "metadata": {
  "kernelspec": {
   "display_name": "Python 3",
   "language": "python",
   "name": "python3"
  },
  "language_info": {
   "codemirror_mode": {
    "name": "ipython",
    "version": 3
   },
   "file_extension": ".py",
   "mimetype": "text/x-python",
   "name": "python",
   "nbconvert_exporter": "python",
   "pygments_lexer": "ipython3",
   "version": "3.9.4"
  },
  "orig_nbformat": 4
 },
 "nbformat": 4,
 "nbformat_minor": 2
}
