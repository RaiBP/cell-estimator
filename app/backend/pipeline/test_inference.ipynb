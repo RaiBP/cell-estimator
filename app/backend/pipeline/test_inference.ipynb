{
 "cells": [
  {
   "cell_type": "code",
   "execution_count": 1,
   "metadata": {},
   "outputs": [],
   "source": [
    "from inference import Inference"
   ]
  },
  {
   "cell_type": "code",
   "execution_count": 2,
   "metadata": {},
   "outputs": [],
   "source": [
    "import numpy as np\n",
    "import h5py\n",
    "from matplotlib import pyplot as plt\n",
    "from pathlib import Path\n",
    "from cellpose import models, utils, plot"
   ]
  },
  {
   "cell_type": "code",
   "execution_count": 3,
   "metadata": {},
   "outputs": [],
   "source": [
    "import IPython\n",
    "\n",
    "%load_ext autoreload\n",
    "%autoreload 2"
   ]
  },
  {
   "cell_type": "code",
   "execution_count": 4,
   "metadata": {},
   "outputs": [],
   "source": [
    "# Open the HDF5 file\n",
    "DATA_FOLDER = Path(\"w:/\")\n",
    "filepath = DATA_FOLDER / \"sample01.pre\"\n",
    "file = h5py.File(filepath, 'r')\n",
    "\n",
    "# Access the dataset\n",
    "amplitude = file['amplitude/images']\n",
    "phase = file['phase/images']\n",
    "\n",
    "img_idx = 2\n",
    "\n",
    "phase_img = phase[img_idx]\n",
    "amplitude_img = amplitude[img_idx]"
   ]
  },
  {
   "cell_type": "code",
   "execution_count": 7,
   "metadata": {},
   "outputs": [],
   "source": [
    "segmentation_method = \"threshold\"\n",
    "classification_method = \"SVC\""
   ]
  },
  {
   "cell_type": "code",
   "execution_count": 8,
   "metadata": {},
   "outputs": [],
   "source": [
    "inf = Inference(segmentation_method, classification_method)"
   ]
  },
  {
   "cell_type": "code",
   "execution_count": 9,
   "metadata": {},
   "outputs": [],
   "source": [
    "masks = inf._segment(phase_img, amplitude_img)"
   ]
  },
  {
   "cell_type": "code",
   "execution_count": 10,
   "metadata": {},
   "outputs": [
    {
     "data": {
      "text/html": [
       "<div>\n",
       "<style scoped>\n",
       "    .dataframe tbody tr th:only-of-type {\n",
       "        vertical-align: middle;\n",
       "    }\n",
       "\n",
       "    .dataframe tbody tr th {\n",
       "        vertical-align: top;\n",
       "    }\n",
       "\n",
       "    .dataframe thead th {\n",
       "        text-align: right;\n",
       "    }\n",
       "</style>\n",
       "<table border=\"1\" class=\"dataframe\">\n",
       "  <thead>\n",
       "    <tr style=\"text-align: right;\">\n",
       "      <th></th>\n",
       "      <th>Volume</th>\n",
       "      <th>Roundness</th>\n",
       "      <th>Opacity</th>\n",
       "      <th>AmplitudeVariance</th>\n",
       "      <th>AmplitudeSkewness</th>\n",
       "      <th>MaxAmplitude</th>\n",
       "      <th>MinAmplitude</th>\n",
       "      <th>DryMassDensity</th>\n",
       "      <th>MaxPhase</th>\n",
       "      <th>MinPhase</th>\n",
       "      <th>...</th>\n",
       "      <th>PhaseSTDLocalKurtosis</th>\n",
       "      <th>PhaseSTDLocalMin</th>\n",
       "      <th>PhaseSTDLocalMax</th>\n",
       "      <th>AmplitudeSTDLocalMean</th>\n",
       "      <th>AmplitudeSTDLocalVariance</th>\n",
       "      <th>AmplitudeSTDLocalSkewness</th>\n",
       "      <th>AmplitudeSTDLocalKurtosis</th>\n",
       "      <th>AmplitudeSTDLocalMin</th>\n",
       "      <th>AmplitudeSTDLocalMax</th>\n",
       "      <th>MaskID</th>\n",
       "    </tr>\n",
       "  </thead>\n",
       "  <tbody>\n",
       "    <tr>\n",
       "      <th>0</th>\n",
       "      <td>192.524927</td>\n",
       "      <td>0.678201</td>\n",
       "      <td>12.129739</td>\n",
       "      <td>0.000993</td>\n",
       "      <td>0.298412</td>\n",
       "      <td>0.109802</td>\n",
       "      <td>-0.031372</td>\n",
       "      <td>0.086269</td>\n",
       "      <td>3.376953</td>\n",
       "      <td>-0.196045</td>\n",
       "      <td>...</td>\n",
       "      <td>2.588414</td>\n",
       "      <td>0.008264</td>\n",
       "      <td>1.057671</td>\n",
       "      <td>0.021312</td>\n",
       "      <td>0.000059</td>\n",
       "      <td>0.348337</td>\n",
       "      <td>2.563706</td>\n",
       "      <td>0.003978</td>\n",
       "      <td>0.041151</td>\n",
       "      <td>0</td>\n",
       "    </tr>\n",
       "    <tr>\n",
       "      <th>1</th>\n",
       "      <td>234.584219</td>\n",
       "      <td>0.902549</td>\n",
       "      <td>12.119352</td>\n",
       "      <td>0.001275</td>\n",
       "      <td>0.865625</td>\n",
       "      <td>0.149048</td>\n",
       "      <td>-0.031372</td>\n",
       "      <td>0.105285</td>\n",
       "      <td>3.679688</td>\n",
       "      <td>-0.199219</td>\n",
       "      <td>...</td>\n",
       "      <td>1.904920</td>\n",
       "      <td>0.009170</td>\n",
       "      <td>0.831745</td>\n",
       "      <td>0.021361</td>\n",
       "      <td>0.000186</td>\n",
       "      <td>0.876491</td>\n",
       "      <td>3.169161</td>\n",
       "      <td>0.002021</td>\n",
       "      <td>0.063593</td>\n",
       "      <td>1</td>\n",
       "    </tr>\n",
       "    <tr>\n",
       "      <th>2</th>\n",
       "      <td>810.974232</td>\n",
       "      <td>0.551416</td>\n",
       "      <td>12.111987</td>\n",
       "      <td>0.001551</td>\n",
       "      <td>0.457676</td>\n",
       "      <td>0.156860</td>\n",
       "      <td>-0.039215</td>\n",
       "      <td>0.048304</td>\n",
       "      <td>3.490234</td>\n",
       "      <td>-0.595703</td>\n",
       "      <td>...</td>\n",
       "      <td>3.507869</td>\n",
       "      <td>0.006217</td>\n",
       "      <td>1.358430</td>\n",
       "      <td>0.024285</td>\n",
       "      <td>0.000143</td>\n",
       "      <td>0.555126</td>\n",
       "      <td>2.708117</td>\n",
       "      <td>0.002428</td>\n",
       "      <td>0.057923</td>\n",
       "      <td>2</td>\n",
       "    </tr>\n",
       "  </tbody>\n",
       "</table>\n",
       "<p>3 rows × 25 columns</p>\n",
       "</div>"
      ],
      "text/plain": [
       "       Volume  Roundness    Opacity  AmplitudeVariance  AmplitudeSkewness  \\\n",
       "0  192.524927   0.678201  12.129739           0.000993           0.298412   \n",
       "1  234.584219   0.902549  12.119352           0.001275           0.865625   \n",
       "2  810.974232   0.551416  12.111987           0.001551           0.457676   \n",
       "\n",
       "   MaxAmplitude  MinAmplitude  DryMassDensity  MaxPhase  MinPhase  ...  \\\n",
       "0      0.109802     -0.031372        0.086269  3.376953 -0.196045  ...   \n",
       "1      0.149048     -0.031372        0.105285  3.679688 -0.199219  ...   \n",
       "2      0.156860     -0.039215        0.048304  3.490234 -0.595703  ...   \n",
       "\n",
       "   PhaseSTDLocalKurtosis  PhaseSTDLocalMin  PhaseSTDLocalMax  \\\n",
       "0               2.588414          0.008264          1.057671   \n",
       "1               1.904920          0.009170          0.831745   \n",
       "2               3.507869          0.006217          1.358430   \n",
       "\n",
       "   AmplitudeSTDLocalMean  AmplitudeSTDLocalVariance  \\\n",
       "0               0.021312                   0.000059   \n",
       "1               0.021361                   0.000186   \n",
       "2               0.024285                   0.000143   \n",
       "\n",
       "   AmplitudeSTDLocalSkewness  AmplitudeSTDLocalKurtosis  AmplitudeSTDLocalMin  \\\n",
       "0                   0.348337                   2.563706              0.003978   \n",
       "1                   0.876491                   3.169161              0.002021   \n",
       "2                   0.555126                   2.708117              0.002428   \n",
       "\n",
       "   AmplitudeSTDLocalMax  MaskID  \n",
       "0              0.041151       0  \n",
       "1              0.063593       1  \n",
       "2              0.057923       2  \n",
       "\n",
       "[3 rows x 25 columns]"
      ]
     },
     "execution_count": 10,
     "metadata": {},
     "output_type": "execute_result"
    }
   ],
   "source": [
    "extracted_features = inf._extract_features(phase_img, amplitude_img, masks)\n",
    "\n",
    "extracted_features.head()"
   ]
  },
  {
   "cell_type": "code",
   "execution_count": 11,
   "metadata": {},
   "outputs": [
    {
     "name": "stdout",
     "output_type": "stream",
     "text": [
      "[b'agg' b'rbc' b'agg']\n",
      "[[0.50437371 0.07585851 0.02021279 0.25875934 0.14079565]\n",
      " [0.13910853 0.05839536 0.01805084 0.62988216 0.15456311]\n",
      " [0.57751607 0.21977403 0.0558597  0.05483745 0.09201275]]\n"
     ]
    }
   ],
   "source": [
    "predictions, probabilities = inf._classify(extracted_features)\n",
    "\n",
    "print(predictions)\n",
    "print(probabilities)"
   ]
  },
  {
   "cell_type": "code",
   "execution_count": null,
   "metadata": {},
   "outputs": [],
   "source": []
  }
 ],
 "metadata": {
  "kernelspec": {
   "display_name": "Python 3",
   "language": "python",
   "name": "python3"
  },
  "language_info": {
   "codemirror_mode": {
    "name": "ipython",
    "version": 3
   },
   "file_extension": ".py",
   "mimetype": "text/x-python",
   "name": "python",
   "nbconvert_exporter": "python",
   "pygments_lexer": "ipython3",
   "version": "3.9.4"
  },
  "orig_nbformat": 4
 },
 "nbformat": 4,
 "nbformat_minor": 2
}
